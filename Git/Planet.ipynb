{
 "cells": [
  {
   "cell_type": "code",
   "execution_count": 21,
   "metadata": {},
   "outputs": [],
   "source": [
    "import pandas as pd \n",
    "import numpy as np\n",
    "import matplotlib.pyplot as plt \n",
    "%matplotlib inline\n",
    "import os\n",
    "# os.getcwd()\n",
    "os.chdir('C:/Users/LYH/Desktop/mlstudy')\n",
    "import seaborn as sns "
   ]
  },
  {
   "cell_type": "code",
   "execution_count": 6,
   "metadata": {},
   "outputs": [
    {
     "data": {
      "text/plain": [
       "'C:\\\\Users\\\\LYH\\\\Desktop\\\\mlstudy'"
      ]
     },
     "execution_count": 6,
     "metadata": {},
     "output_type": "execute_result"
    }
   ],
   "source": [
    "os.getcwd()"
   ]
  },
  {
   "cell_type": "code",
   "execution_count": 10,
   "metadata": {},
   "outputs": [
    {
     "data": {
      "text/html": [
       "<div>\n",
       "<style scoped>\n",
       "    .dataframe tbody tr th:only-of-type {\n",
       "        vertical-align: middle;\n",
       "    }\n",
       "\n",
       "    .dataframe tbody tr th {\n",
       "        vertical-align: top;\n",
       "    }\n",
       "\n",
       "    .dataframe thead th {\n",
       "        text-align: right;\n",
       "    }\n",
       "</style>\n",
       "<table border=\"1\" class=\"dataframe\">\n",
       "  <thead>\n",
       "    <tr style=\"text-align: right;\">\n",
       "      <th></th>\n",
       "      <th>u</th>\n",
       "      <th>g</th>\n",
       "      <th>r</th>\n",
       "      <th>i</th>\n",
       "      <th>z</th>\n",
       "      <th>redshift</th>\n",
       "      <th>dered_u</th>\n",
       "      <th>dered_g</th>\n",
       "      <th>dered_r</th>\n",
       "      <th>dered_i</th>\n",
       "      <th>...</th>\n",
       "      <th>u_ratio</th>\n",
       "      <th>g_ratio</th>\n",
       "      <th>r_ratio</th>\n",
       "      <th>i_ratio</th>\n",
       "      <th>z_ratio</th>\n",
       "      <th>du_ratio</th>\n",
       "      <th>dg_ratio</th>\n",
       "      <th>dr_ratio</th>\n",
       "      <th>di_ratio</th>\n",
       "      <th>dz_ratio</th>\n",
       "    </tr>\n",
       "  </thead>\n",
       "  <tbody>\n",
       "    <tr>\n",
       "      <th>0</th>\n",
       "      <td>20.569484</td>\n",
       "      <td>19.015036</td>\n",
       "      <td>18.216944</td>\n",
       "      <td>17.857745</td>\n",
       "      <td>17.878267</td>\n",
       "      <td>0.000218</td>\n",
       "      <td>18.95452</td>\n",
       "      <td>17.77918</td>\n",
       "      <td>17.36149</td>\n",
       "      <td>17.22072</td>\n",
       "      <td>...</td>\n",
       "      <td>0.219906</td>\n",
       "      <td>0.203288</td>\n",
       "      <td>0.194756</td>\n",
       "      <td>0.190915</td>\n",
       "      <td>0.191135</td>\n",
       "      <td>0.213666</td>\n",
       "      <td>0.200417</td>\n",
       "      <td>0.195709</td>\n",
       "      <td>0.194122</td>\n",
       "      <td>0.196086</td>\n",
       "    </tr>\n",
       "    <tr>\n",
       "      <th>1</th>\n",
       "      <td>19.219982</td>\n",
       "      <td>18.402198</td>\n",
       "      <td>18.254012</td>\n",
       "      <td>18.021883</td>\n",
       "      <td>17.915781</td>\n",
       "      <td>0.038436</td>\n",
       "      <td>19.12234</td>\n",
       "      <td>18.31982</td>\n",
       "      <td>18.19839</td>\n",
       "      <td>17.98221</td>\n",
       "      <td>...</td>\n",
       "      <td>0.209336</td>\n",
       "      <td>0.200429</td>\n",
       "      <td>0.198815</td>\n",
       "      <td>0.196287</td>\n",
       "      <td>0.195132</td>\n",
       "      <td>0.208945</td>\n",
       "      <td>0.200176</td>\n",
       "      <td>0.198849</td>\n",
       "      <td>0.196487</td>\n",
       "      <td>0.195543</td>\n",
       "    </tr>\n",
       "    <tr>\n",
       "      <th>2</th>\n",
       "      <td>25.896876</td>\n",
       "      <td>22.103648</td>\n",
       "      <td>20.490849</td>\n",
       "      <td>18.857178</td>\n",
       "      <td>17.931170</td>\n",
       "      <td>-0.000012</td>\n",
       "      <td>23.94866</td>\n",
       "      <td>21.10701</td>\n",
       "      <td>19.82161</td>\n",
       "      <td>18.36794</td>\n",
       "      <td>...</td>\n",
       "      <td>0.245982</td>\n",
       "      <td>0.209952</td>\n",
       "      <td>0.194632</td>\n",
       "      <td>0.179115</td>\n",
       "      <td>0.170319</td>\n",
       "      <td>0.237577</td>\n",
       "      <td>0.209387</td>\n",
       "      <td>0.196636</td>\n",
       "      <td>0.182215</td>\n",
       "      <td>0.174186</td>\n",
       "    </tr>\n",
       "  </tbody>\n",
       "</table>\n",
       "<p>3 rows × 73 columns</p>\n",
       "</div>"
      ],
      "text/plain": [
       "           u          g          r          i          z  redshift   dered_u  \\\n",
       "0  20.569484  19.015036  18.216944  17.857745  17.878267  0.000218  18.95452   \n",
       "1  19.219982  18.402198  18.254012  18.021883  17.915781  0.038436  19.12234   \n",
       "2  25.896876  22.103648  20.490849  18.857178  17.931170 -0.000012  23.94866   \n",
       "\n",
       "    dered_g   dered_r   dered_i  ...   u_ratio   g_ratio   r_ratio   i_ratio  \\\n",
       "0  17.77918  17.36149  17.22072  ...  0.219906  0.203288  0.194756  0.190915   \n",
       "1  18.31982  18.19839  17.98221  ...  0.209336  0.200429  0.198815  0.196287   \n",
       "2  21.10701  19.82161  18.36794  ...  0.245982  0.209952  0.194632  0.179115   \n",
       "\n",
       "    z_ratio  du_ratio  dg_ratio  dr_ratio  di_ratio  dz_ratio  \n",
       "0  0.191135  0.213666  0.200417  0.195709  0.194122  0.196086  \n",
       "1  0.195132  0.208945  0.200176  0.198849  0.196487  0.195543  \n",
       "2  0.170319  0.237577  0.209387  0.196636  0.182215  0.174186  \n",
       "\n",
       "[3 rows x 73 columns]"
      ]
     },
     "execution_count": 10,
     "metadata": {},
     "output_type": "execute_result"
    }
   ],
   "source": [
    "#데이터 불러오기\n",
    "planet_df = pd.read_csv('planet.csv').iloc[0:,2:]\n",
    "planet_df.head(3)"
   ]
  },
  {
   "cell_type": "code",
   "execution_count": 190,
   "metadata": {},
   "outputs": [
    {
     "name": "stdout",
     "output_type": "stream",
     "text": [
      "<class 'pandas.core.frame.DataFrame'>\n",
      "RangeIndex: 8000 entries, 0 to 7999\n",
      "Data columns (total 73 columns):\n",
      " #   Column            Non-Null Count  Dtype  \n",
      "---  ------            --------------  -----  \n",
      " 0   u                 8000 non-null   float64\n",
      " 1   g                 8000 non-null   float64\n",
      " 2   r                 8000 non-null   float64\n",
      " 3   i                 8000 non-null   float64\n",
      " 4   z                 8000 non-null   float64\n",
      " 5   redshift          8000 non-null   float64\n",
      " 6   dered_u           8000 non-null   float64\n",
      " 7   dered_g           8000 non-null   float64\n",
      " 8   dered_r           8000 non-null   float64\n",
      " 9   dered_i           8000 non-null   float64\n",
      " 10  dered_z           8000 non-null   float64\n",
      " 11  nObserve          8000 non-null   int64  \n",
      " 12  nDetect           8000 non-null   int64  \n",
      " 13  airmass_u         8000 non-null   float64\n",
      " 14  airmass_g         8000 non-null   float64\n",
      " 15  airmass_r         8000 non-null   float64\n",
      " 16  airmass_i         8000 non-null   float64\n",
      " 17  airmass_z         8000 non-null   float64\n",
      " 18  class             8000 non-null   int64  \n",
      " 19  u_g               8000 non-null   float64\n",
      " 20  u_r               8000 non-null   float64\n",
      " 21  u_i               8000 non-null   float64\n",
      " 22  u_z               8000 non-null   float64\n",
      " 23  g_r               8000 non-null   float64\n",
      " 24  g_i               8000 non-null   float64\n",
      " 25  g_z               8000 non-null   float64\n",
      " 26  r_i               8000 non-null   float64\n",
      " 27  r_z               8000 non-null   float64\n",
      " 28  i_z               8000 non-null   float64\n",
      " 29  du_dg             8000 non-null   float64\n",
      " 30  du_dr             8000 non-null   float64\n",
      " 31  du_di             8000 non-null   float64\n",
      " 32  du_dz             8000 non-null   float64\n",
      " 33  dg_dr             8000 non-null   float64\n",
      " 34  dg_di             8000 non-null   float64\n",
      " 35  dg_dz             8000 non-null   float64\n",
      " 36  dr_di             8000 non-null   float64\n",
      " 37  dr_dz             8000 non-null   float64\n",
      " 38  di_dz             8000 non-null   float64\n",
      " 39  u__g              8000 non-null   float64\n",
      " 40  u__r              8000 non-null   float64\n",
      " 41  u__i              8000 non-null   float64\n",
      " 42  u__z              8000 non-null   float64\n",
      " 43  g__r              8000 non-null   float64\n",
      " 44  g__i              8000 non-null   float64\n",
      " 45  g__z              8000 non-null   float64\n",
      " 46  r__i              8000 non-null   float64\n",
      " 47  r__z              8000 non-null   float64\n",
      " 48  i__z              8000 non-null   float64\n",
      " 49  du__dg            8000 non-null   float64\n",
      " 50  du__dr            8000 non-null   float64\n",
      " 51  du__di            8000 non-null   float64\n",
      " 52  du__dz            8000 non-null   float64\n",
      " 53  dg__dr            8000 non-null   float64\n",
      " 54  dg__di            8000 non-null   float64\n",
      " 55  dg__dz            8000 non-null   float64\n",
      " 56  dr__di            8000 non-null   float64\n",
      " 57  dr__dz            8000 non-null   float64\n",
      " 58  di__dz            8000 non-null   float64\n",
      " 59  ugriz_mean        8000 non-null   float64\n",
      " 60  ugriz_sd          8000 non-null   float64\n",
      " 61  dered_ugriz_mean  8000 non-null   float64\n",
      " 62  dred_ugriz_sd     8000 non-null   float64\n",
      " 63  u_ratio           8000 non-null   float64\n",
      " 64  g_ratio           8000 non-null   float64\n",
      " 65  r_ratio           8000 non-null   float64\n",
      " 66  i_ratio           8000 non-null   float64\n",
      " 67  z_ratio           8000 non-null   float64\n",
      " 68  du_ratio          8000 non-null   float64\n",
      " 69  dg_ratio          8000 non-null   float64\n",
      " 70  dr_ratio          8000 non-null   float64\n",
      " 71  di_ratio          8000 non-null   float64\n",
      " 72  dz_ratio          8000 non-null   float64\n",
      "dtypes: float64(70), int64(3)\n",
      "memory usage: 4.5 MB\n",
      "None\n",
      "          redshift     nObserve      nDetect    airmass_u\n",
      "count  8000.000000  8000.000000  8000.000000  8000.000000\n",
      "mean      0.064185     6.429125     6.234250     1.176176\n",
      "std       0.443921     8.938930     8.607243     0.114856\n",
      "min      -7.776430     1.000000     1.000000     1.000142\n",
      "25%       0.000034     1.000000     1.000000     1.089711\n",
      "50%       0.047005     2.000000     2.000000     1.179410\n",
      "75%       0.095755     5.000000     5.000000     1.227276\n",
      "max      37.517836    42.000000    40.000000     2.005337\n"
     ]
    }
   ],
   "source": [
    "planet_df.shape #(8000,73)\n",
    "print(planet_df.info())\n",
    "# print(planet_df.describe())\n",
    "print(planet_df[['redshift','nObserve','nDetect','airmass_u']].describe())\n",
    "planet_rna = planet_df[['redshift', 'nObserve','airmass_u']]\n",
    "#nObserve, nDetect / airmass_u~z 상관계수 1 .. "
   ]
  },
  {
   "cell_type": "code",
   "execution_count": 145,
   "metadata": {},
   "outputs": [],
   "source": [
    "print(planet_df.isnull().sum())\n",
    "print(planet_df['class'])"
   ]
  },
  {
   "cell_type": "code",
   "execution_count": 91,
   "metadata": {},
   "outputs": [],
   "source": [
    "#class (target 변수제외한 데이터 만들기)\n",
    "planet_features = planet_df.drop('class', axis = 1)\n",
    "planet_uz = planet_features.iloc[:,:5]\n",
    "planet_dered = planet_features.iloc[:,6:11]\n",
    "planet_target = planet_df['class']\n",
    "#featrue - planet_features\n",
    "#target - planet_target"
   ]
  },
  {
   "cell_type": "markdown",
   "metadata": {},
   "source": [
    "## target 변수 범주형 변환 "
   ]
  },
  {
   "cell_type": "code",
   "execution_count": 163,
   "metadata": {},
   "outputs": [
    {
     "name": "stdout",
     "output_type": "stream",
     "text": [
      "<class 'numpy.ndarray'>\n",
      "   class\n",
      "0      0\n",
      "1      1\n",
      "2      0\n",
      "3      1\n",
      "4      0\n"
     ]
    }
   ],
   "source": [
    "from sklearn.preprocessing import LabelEncoder\n",
    "le = LabelEncoder()\n",
    "label = le.fit_transform(planet_target)\n",
    "print(type(label))\n",
    "planet_target = pd.DataFrame(label)\n",
    "planet_target.columns = ['class']\n",
    "print(planet_target.head())"
   ]
  },
  {
   "cell_type": "markdown",
   "metadata": {},
   "source": [
    "## 상관관계 분석 후 상관관계가 높은 변수 차원축소"
   ]
  },
  {
   "cell_type": "markdown",
   "metadata": {},
   "source": [
    "## u~z 간 히트맵  "
   ]
  },
  {
   "cell_type": "code",
   "execution_count": 115,
   "metadata": {},
   "outputs": [
    {
     "data": {
      "text/plain": [
       "<matplotlib.axes._subplots.AxesSubplot at 0x23244a65b20>"
      ]
     },
     "execution_count": 115,
     "metadata": {},
     "output_type": "execute_result"
    },
    {
     "data": {
      "image/png": "[encoded data removed]",
      "text/plain": [
       "<Figure size 1080x1080 with 2 Axes>"
      ]
     },
     "metadata": {
      "needs_background": "light"
     },
     "output_type": "display_data"
    }
   ],
   "source": [
    "corr0 = planet_uz.corr()\n",
    "corr1 = planet_dered.corr()\n",
    "plt.figure(figsize = (15,15))\n",
    "sns.heatmap(corr0 , annot = True , fmt = '.1g',  annot_kws={\"size\": 20})\n",
    "# u~z 간 상관관계 높음"
   ]
  },
  {
   "cell_type": "markdown",
   "metadata": {},
   "source": [
    "## dered_ 변수 간 히트맵 "
   ]
  },
  {
   "cell_type": "code",
   "execution_count": 116,
   "metadata": {},
   "outputs": [
    {
     "data": {
      "text/plain": [
       "<matplotlib.axes._subplots.AxesSubplot at 0x23245db5100>"
      ]
     },
     "execution_count": 116,
     "metadata": {},
     "output_type": "execute_result"
    },
    {
     "data": {
      "image/png": "[encoded data removed]",
      "text/plain": [
       "<Figure size 1080x1080 with 2 Axes>"
      ]
     },
     "metadata": {
      "needs_background": "light"
     },
     "output_type": "display_data"
    }
   ],
   "source": [
    "#dered 간 상관관계 높음\n",
    "#airmass 간 상관관계 1 ..\n",
    "plt.figure(figsize = (15,15))\n",
    "sns.heatmap(corr1 , annot = True , fmt = '.1g',  annot_kws={\"size\": 20})"
   ]
  },
  {
   "cell_type": "markdown",
   "metadata": {},
   "source": [
    "## 표준화 및 PCA 차원 축소 "
   ]
  },
  {
   "cell_type": "code",
   "execution_count": 94,
   "metadata": {},
   "outputs": [],
   "source": [
    "from sklearn.preprocessing import StandardScaler \n",
    "\n",
    "planet_uz_scaled = StandardScaler().fit_transform(planet_uz)"
   ]
  },
  {
   "cell_type": "code",
   "execution_count": 168,
   "metadata": {},
   "outputs": [],
   "source": [
    "from sklearn.decomposition import PCA #PCA import \n",
    "\n",
    "pca = PCA(n_components = 5) #pca 주성분 설정 \n",
    "\n",
    "pca.fit(planet_uz_scaled) \n",
    "uz_pca = pca.transform(planet_uz_scaled) # pc score 값으로 이루어진 ndarray 반환 \n",
    "#uz_pca = pca.fit_transform(planet_uz_scaled) 위와 같은 코드 \n",
    "# print(uz_pca.shape)\n",
    "# print(uz_pca)"
   ]
  },
  {
   "cell_type": "code",
   "execution_count": null,
   "metadata": {},
   "outputs": [],
   "source": []
  },
  {
   "cell_type": "code",
   "execution_count": 170,
   "metadata": {},
   "outputs": [
    {
     "name": "stdout",
     "output_type": "stream",
     "text": [
      "        PC1       PC2       PC3       PC4       PC5  target\n",
      "0  0.954882  0.168884 -0.202187  0.046345  0.019189       0\n",
      "1  0.569222  0.805293  0.097903  0.044909 -0.066323       1\n",
      "2  4.097277 -1.913181 -0.213487 -0.233204 -0.204968       0\n",
      "3 -0.486009  0.384276  0.100561  0.075470 -0.017850       1\n",
      "4  1.487013  0.755161 -0.084269  0.010085 -0.043688       0\n"
     ]
    }
   ],
   "source": [
    "pca_columns = ['PC1', 'PC2', 'PC3' , 'PC4' , 'PC5'] #pca 주성분 변수 이름 객체 설정 \n",
    "planet_uz_df = pd.DataFrame(uz_pca, columns = pca_columns)  #nd.array 형태의 pca -> pd.dataframe 형태로 변환 \n",
    "planet_uz_df['target'] = planet_target['class'] #class 변수 추가 \n",
    "print(planet_uz_df.head())"
   ]
  },
  {
   "cell_type": "code",
   "execution_count": 171,
   "metadata": {},
   "outputs": [
    {
     "name": "stdout",
     "output_type": "stream",
     "text": [
      "[0.85265936 0.11208049 0.01918186 0.01200843 0.00406986]\n",
      "[4.26382976 0.56047253 0.09592129 0.06004968 0.02035182]\n"
     ]
    }
   ],
   "source": [
    "print(pca.explained_variance_ratio_) #전체 데이터 대비 PC1 ,PC2 변수의 설명 가능 비율\n",
    "eigenvalue = pca.explained_variance_ #PC1 ,PC2 변수 eigenvalue(분산) 값 \n",
    "print(eigenvalue)\n",
    "#주성분 선택 조건 \n",
    "# 1 . 주로 2~3 개 \n",
    "# 2. eigenvalue(분산) > 1 \n",
    "# 3. elbow point (scree plot 을 그렸을 때 크게 꺾이는 점 까지)"
   ]
  },
  {
   "cell_type": "markdown",
   "metadata": {},
   "source": [
    "## Scree plot"
   ]
  },
  {
   "cell_type": "code",
   "execution_count": 172,
   "metadata": {},
   "outputs": [
    {
     "data": {
      "text/plain": [
       "[<matplotlib.lines.Line2D at 0x2324b198550>]"
      ]
     },
     "execution_count": 172,
     "metadata": {},
     "output_type": "execute_result"
    },
    {
     "data": {
      "image/png": "[encoded data removed]",
      "text/plain": [
       "<Figure size 432x288 with 1 Axes>"
      ]
     },
     "metadata": {
      "needs_background": "light"
     },
     "output_type": "display_data"
    }
   ],
   "source": [
    "plt.title('Scree plot')\n",
    "plt.xlabel('Number of component')\n",
    "plt.ylabel('Cumulative Explained Variance')\n",
    "plt.plot(eigenvalue) # 아래 그림 결과 첫 번째 주성분이 거의 모든 데이터를 설명할 수 있음을 알 수 있음 "
   ]
  },
  {
   "cell_type": "code",
   "execution_count": 99,
   "metadata": {},
   "outputs": [
    {
     "name": "stdout",
     "output_type": "stream",
     "text": [
      "[0.820625 0.8425   0.839375 0.829375 0.82375 ]\n",
      "0.8311250000000001\n"
     ]
    }
   ],
   "source": [
    "#주성분분석을 하지 않은 채 u~z값으로 랜덤포레스트 실행 결과 정확도\n",
    "from sklearn.ensemble import RandomForestClassifier #랜덤포레스트 import \n",
    "from sklearn.model_selection import cross_val_score #교차검증 import \n",
    "\n",
    "rcf = RandomForestClassifier(random_state = 111) #모델 설정 \n",
    "scores = cross_val_score(rcf , planet_uz , planet_target, scoring = 'accuracy' , cv=5)\n",
    "# model, train, target, cross validation\n",
    "print(scores) #주성분분석을 하지 않고 랜덤포레스트를 한 결과 accuracy 83% 의 성능을 보여주고 있다.\n",
    "print(np.mean(scores))"
   ]
  },
  {
   "cell_type": "code",
   "execution_count": 179,
   "metadata": {},
   "outputs": [
    {
     "name": "stderr",
     "output_type": "stream",
     "text": [
      "C:\\Users\\LYH\\anaconda3\\lib\\site-packages\\sklearn\\model_selection\\_validation.py:531: DataConversionWarning: A column-vector y was passed when a 1d array was expected. Please change the shape of y to (n_samples,), for example using ravel().\n",
      "  estimator.fit(X_train, y_train, **fit_params)\n",
      "C:\\Users\\LYH\\anaconda3\\lib\\site-packages\\sklearn\\model_selection\\_validation.py:531: DataConversionWarning: A column-vector y was passed when a 1d array was expected. Please change the shape of y to (n_samples,), for example using ravel().\n",
      "  estimator.fit(X_train, y_train, **fit_params)\n",
      "C:\\Users\\LYH\\anaconda3\\lib\\site-packages\\sklearn\\model_selection\\_validation.py:531: DataConversionWarning: A column-vector y was passed when a 1d array was expected. Please change the shape of y to (n_samples,), for example using ravel().\n",
      "  estimator.fit(X_train, y_train, **fit_params)\n",
      "C:\\Users\\LYH\\anaconda3\\lib\\site-packages\\sklearn\\model_selection\\_validation.py:531: DataConversionWarning: A column-vector y was passed when a 1d array was expected. Please change the shape of y to (n_samples,), for example using ravel().\n",
      "  estimator.fit(X_train, y_train, **fit_params)\n",
      "C:\\Users\\LYH\\anaconda3\\lib\\site-packages\\sklearn\\model_selection\\_validation.py:531: DataConversionWarning: A column-vector y was passed when a 1d array was expected. Please change the shape of y to (n_samples,), for example using ravel().\n",
      "  estimator.fit(X_train, y_train, **fit_params)\n"
     ]
    },
    {
     "name": "stdout",
     "output_type": "stream",
     "text": [
      "[0.726875 0.7175   0.73     0.735625 0.72375 ]\n",
      "0.72675\n"
     ]
    }
   ],
   "source": [
    "#주성분 2개를 사용한 정확도 10%감소\n",
    "pca_x = planet_uz_df[['PC1','PC2']] #5개 중 2개만 선택\n",
    "scores_pca = cross_val_score(rcf , pca_x, planet_target , scoring='accuracy' , cv = 5)\n",
    "print(scores_pca)\n",
    "print(np.mean(scores_pca))"
   ]
  },
  {
   "cell_type": "markdown",
   "metadata": {},
   "source": [
    "# class 별 분포 확인(시각화)_교재참고  "
   ]
  },
  {
   "cell_type": "code",
   "execution_count": 101,
   "metadata": {
    "scrolled": true
   },
   "outputs": [
    {
     "data": {
      "image/png": "[encoded data removed]",
      "text/plain": [
       "<Figure size 432x288 with 1 Axes>"
      ]
     },
     "metadata": {
      "needs_background": "light"
     },
     "output_type": "display_data"
    }
   ],
   "source": [
    "markers = ['^' , 's' , 'o']\n",
    "\n",
    "for i, marker in enumerate(markers) : \n",
    "    x_axis_data = planet_df[planet_df['class'] == i]['u']\n",
    "    y_axis_data = planet_df[planet_df['class'] == i]['z']\n",
    "    plt.scatter(x_axis_data, y_axis_data, marker=marker)"
   ]
  },
  {
   "cell_type": "markdown",
   "metadata": {},
   "source": [
    "# dered 차원 축소 실습"
   ]
  },
  {
   "cell_type": "code",
   "execution_count": 106,
   "metadata": {},
   "outputs": [],
   "source": [
    "planet_dered_scaled = StandardScaler().fit_transform(planet_dered)"
   ]
  },
  {
   "cell_type": "code",
   "execution_count": 173,
   "metadata": {},
   "outputs": [],
   "source": [
    "pca2 = PCA(n_components = 2)\n",
    "\n",
    "dered_pca = pca2.fit_transform(planet_dered_scaled) #pca 모델 피팅"
   ]
  },
  {
   "cell_type": "code",
   "execution_count": 108,
   "metadata": {},
   "outputs": [
    {
     "name": "stdout",
     "output_type": "stream",
     "text": [
      "        PC1       PC2  target\n",
      "0  0.228532  0.506551       0\n",
      "1 -0.662300  0.782146       1\n",
      "2 -3.060555 -1.441823       0\n"
     ]
    }
   ],
   "source": [
    "pca_columns = ['PC1', 'PC2']\n",
    "planet_dered_df = pd.DataFrame(dered_pca, columns = pca_columns)\n",
    "planet_dered_df['target'] = planet_df['class']\n",
    "print(planet_dered_df.head(3))"
   ]
  },
  {
   "cell_type": "code",
   "execution_count": 109,
   "metadata": {},
   "outputs": [
    {
     "name": "stdout",
     "output_type": "stream",
     "text": [
      "[0.86628524 0.10645517]\n"
     ]
    }
   ],
   "source": [
    "print(pca2.explained_variance_ratio_)"
   ]
  },
  {
   "cell_type": "markdown",
   "metadata": {},
   "source": [
    "# dered 변수 랜덤포레스트 정확도"
   ]
  },
  {
   "cell_type": "code",
   "execution_count": 113,
   "metadata": {},
   "outputs": [
    {
     "name": "stdout",
     "output_type": "stream",
     "text": [
      "[0.836875 0.845625 0.833125 0.841875 0.8375  ]\n",
      "0.8390000000000001\n"
     ]
    }
   ],
   "source": [
    "rcf2 = RandomForestClassifier(random_state = 112) #모델 설정 \n",
    "scores2 = cross_val_score(rcf2 , planet_dered , planet_target, scoring = 'accuracy' , cv=5)\n",
    "# model, train, target, cross validation\n",
    "print(scores2)\n",
    "print(np.mean(scores2))"
   ]
  },
  {
   "cell_type": "markdown",
   "metadata": {},
   "source": [
    "# PCA 변환한 dered 변수 랜덤포레스트 정확도 "
   ]
  },
  {
   "cell_type": "code",
   "execution_count": 114,
   "metadata": {
    "scrolled": true
   },
   "outputs": [
    {
     "name": "stdout",
     "output_type": "stream",
     "text": [
      "[0.7425   0.741875 0.733125 0.745625 0.735625]\n",
      "0.7397500000000001\n"
     ]
    }
   ],
   "source": [
    "pca_dered = planet_dered_df[['PC1','PC2']]\n",
    "scores_dered_pca = cross_val_score(rcf2 , pca_dered, planet_target , scoring='accuracy' , cv = 5)\n",
    "print(scores_dered_pca)\n",
    "print(np.mean(scores_dered_pca))"
   ]
  },
  {
   "cell_type": "markdown",
   "metadata": {},
   "source": [
    "# U~Z , dered 변수 합쳐서 PCA해보기 "
   ]
  },
  {
   "cell_type": "code",
   "execution_count": 124,
   "metadata": {},
   "outputs": [],
   "source": [
    "planet_ten = planet_features.drop('redshift',axis = 1)\n",
    "planet_ten = planet_ten.iloc[:,:10] #변수 10개 "
   ]
  },
  {
   "cell_type": "code",
   "execution_count": 130,
   "metadata": {},
   "outputs": [
    {
     "data": {
      "text/plain": [
       "<matplotlib.axes._subplots.AxesSubplot at 0x232487b04c0>"
      ]
     },
     "execution_count": 130,
     "metadata": {},
     "output_type": "execute_result"
    },
    {
     "data": {
      "image/png": "[encoded data removed]",
      "text/plain": [
       "<Figure size 720x720 with 2 Axes>"
      ]
     },
     "metadata": {
      "needs_background": "light"
     },
     "output_type": "display_data"
    }
   ],
   "source": [
    "corr_ten = planet_ten.corr()\n",
    "# print(corr_ten)\n",
    "plt.figure(figsize = (10,10))\n",
    "sns.heatmap(corr_ten , annot = True , fmt = '.1g',  annot_kws={\"size\": 20})"
   ]
  },
  {
   "cell_type": "code",
   "execution_count": 131,
   "metadata": {
    "scrolled": true
   },
   "outputs": [
    {
     "name": "stdout",
     "output_type": "stream",
     "text": [
      "[0.83375  0.838125 0.833125 0.84125  0.840625]\n",
      "0.837375\n"
     ]
    }
   ],
   "source": [
    "rcf3 = RandomForestClassifier(random_state = 112) #모델 설정 \n",
    "scores3 = cross_val_score(rcf3 , planet_ten , planet_target, scoring = 'accuracy' , cv=5)\n",
    "# model, train, target, cross validation\n",
    "print(scores3)\n",
    "print(np.mean(scores3))"
   ]
  },
  {
   "cell_type": "code",
   "execution_count": 132,
   "metadata": {},
   "outputs": [],
   "source": [
    "planet_ten_scaled = StandardScaler().fit_transform(planet_ten)"
   ]
  },
  {
   "cell_type": "code",
   "execution_count": 138,
   "metadata": {},
   "outputs": [
    {
     "name": "stdout",
     "output_type": "stream",
     "text": [
      "(8000, 2)\n"
     ]
    }
   ],
   "source": [
    "pca3 = PCA(n_components = 2)\n",
    "\n",
    "ten_pca = pca3.fit_transform(planet_ten_scaled)\n",
    "print(ten_pca.shape)"
   ]
  },
  {
   "cell_type": "code",
   "execution_count": 142,
   "metadata": {},
   "outputs": [
    {
     "name": "stdout",
     "output_type": "stream",
     "text": [
      "[8.46297369 1.06292891]\n"
     ]
    }
   ],
   "source": [
    "eigenvalue = pca3.explained_variance_\n",
    "print(eigenvalue) #PC1 의 eigenvalue(분산) 8.462 PC2 의 약 8배 "
   ]
  },
  {
   "cell_type": "code",
   "execution_count": 139,
   "metadata": {},
   "outputs": [
    {
     "name": "stdout",
     "output_type": "stream",
     "text": [
      "        PC1       PC2  target\n",
      "0  0.510903  0.453473       0\n",
      "1  0.874920  1.120980       1\n",
      "2  5.049420 -2.412287       0\n"
     ]
    }
   ],
   "source": [
    "pca_columns = ['PC1', 'PC2']\n",
    "planet_ten_df = pd.DataFrame(ten_pca, columns = pca_columns)\n",
    "planet_ten_df['target'] = planet_df['class']\n",
    "print(planet_ten_df.head(3))"
   ]
  },
  {
   "cell_type": "code",
   "execution_count": 140,
   "metadata": {},
   "outputs": [
    {
     "name": "stdout",
     "output_type": "stream",
     "text": [
      "[0.84619158 0.1062796 ]\n"
     ]
    }
   ],
   "source": [
    "print(pca3.explained_variance_ratio_) #pca 주성분 2개만으로 10개의 변수를 2개의 주성분으로 95%이상 설명 가능"
   ]
  },
  {
   "cell_type": "code",
   "execution_count": 141,
   "metadata": {},
   "outputs": [
    {
     "name": "stdout",
     "output_type": "stream",
     "text": [
      "[0.7425   0.741875 0.733125 0.745625 0.735625]\n",
      "0.7397500000000001\n"
     ]
    }
   ],
   "source": [
    "rcf3 = RandomForestClassifier(random_state = 112) #모델 설정 \n",
    "\n",
    "pca_ten = planet_ten_df[['PC1','PC2']]\n",
    "scores_ten_pca = cross_val_score(rcf3 , pca_ten, planet_target , scoring='accuracy' , cv = 5)\n",
    "print(scores_dered_pca)\n",
    "print(np.mean(scores_dered_pca))"
   ]
  },
  {
   "cell_type": "markdown",
   "metadata": {},
   "source": [
    "# 다른 모든 연속형 변수 PCA 적용"
   ]
  },
  {
   "cell_type": "code",
   "execution_count": 176,
   "metadata": {},
   "outputs": [],
   "source": [
    "planet_residual = planet_features.iloc[:,18:]"
   ]
  },
  {
   "cell_type": "code",
   "execution_count": 178,
   "metadata": {
    "scrolled": true
   },
   "outputs": [
    {
     "name": "stderr",
     "output_type": "stream",
     "text": [
      "C:\\Users\\LYH\\anaconda3\\lib\\site-packages\\sklearn\\model_selection\\_validation.py:531: DataConversionWarning: A column-vector y was passed when a 1d array was expected. Please change the shape of y to (n_samples,), for example using ravel().\n",
      "  estimator.fit(X_train, y_train, **fit_params)\n",
      "C:\\Users\\LYH\\anaconda3\\lib\\site-packages\\sklearn\\model_selection\\_validation.py:531: DataConversionWarning: A column-vector y was passed when a 1d array was expected. Please change the shape of y to (n_samples,), for example using ravel().\n",
      "  estimator.fit(X_train, y_train, **fit_params)\n",
      "C:\\Users\\LYH\\anaconda3\\lib\\site-packages\\sklearn\\model_selection\\_validation.py:531: DataConversionWarning: A column-vector y was passed when a 1d array was expected. Please change the shape of y to (n_samples,), for example using ravel().\n",
      "  estimator.fit(X_train, y_train, **fit_params)\n",
      "C:\\Users\\LYH\\anaconda3\\lib\\site-packages\\sklearn\\model_selection\\_validation.py:531: DataConversionWarning: A column-vector y was passed when a 1d array was expected. Please change the shape of y to (n_samples,), for example using ravel().\n",
      "  estimator.fit(X_train, y_train, **fit_params)\n",
      "C:\\Users\\LYH\\anaconda3\\lib\\site-packages\\sklearn\\model_selection\\_validation.py:531: DataConversionWarning: A column-vector y was passed when a 1d array was expected. Please change the shape of y to (n_samples,), for example using ravel().\n",
      "  estimator.fit(X_train, y_train, **fit_params)\n",
      "C:\\Users\\LYH\\anaconda3\\lib\\site-packages\\sklearn\\model_selection\\_validation.py:531: DataConversionWarning: A column-vector y was passed when a 1d array was expected. Please change the shape of y to (n_samples,), for example using ravel().\n",
      "  estimator.fit(X_train, y_train, **fit_params)\n",
      "C:\\Users\\LYH\\anaconda3\\lib\\site-packages\\sklearn\\model_selection\\_validation.py:531: DataConversionWarning: A column-vector y was passed when a 1d array was expected. Please change the shape of y to (n_samples,), for example using ravel().\n",
      "  estimator.fit(X_train, y_train, **fit_params)\n",
      "C:\\Users\\LYH\\anaconda3\\lib\\site-packages\\sklearn\\model_selection\\_validation.py:531: DataConversionWarning: A column-vector y was passed when a 1d array was expected. Please change the shape of y to (n_samples,), for example using ravel().\n",
      "  estimator.fit(X_train, y_train, **fit_params)\n",
      "C:\\Users\\LYH\\anaconda3\\lib\\site-packages\\sklearn\\model_selection\\_validation.py:531: DataConversionWarning: A column-vector y was passed when a 1d array was expected. Please change the shape of y to (n_samples,), for example using ravel().\n",
      "  estimator.fit(X_train, y_train, **fit_params)\n",
      "C:\\Users\\LYH\\anaconda3\\lib\\site-packages\\sklearn\\model_selection\\_validation.py:531: DataConversionWarning: A column-vector y was passed when a 1d array was expected. Please change the shape of y to (n_samples,), for example using ravel().\n",
      "  estimator.fit(X_train, y_train, **fit_params)\n"
     ]
    },
    {
     "name": "stdout",
     "output_type": "stream",
     "text": [
      "[0.88125 0.885   0.88625 0.89125 0.885   0.91    0.89125 0.895   0.8975\n",
      " 0.88625]\n",
      "0.8908750000000001\n"
     ]
    }
   ],
   "source": [
    "rcf = RandomForestClassifier(random_state = 1) #모델 설정 \n",
    "scores_residual = cross_val_score(rcf ,planet_residual , planet_target, scoring = 'accuracy' , cv=10)\n",
    "# model, train, target, cross validation\n",
    "print(scores_residual)\n",
    "print(np.mean(scores_residual)) # accuracy 0.8908750000000001 "
   ]
  },
  {
   "cell_type": "markdown",
   "metadata": {},
   "source": [
    "# 피쳐 변수 묶어주기"
   ]
  },
  {
   "cell_type": "code",
   "execution_count": 195,
   "metadata": {},
   "outputs": [],
   "source": [
    "planet_concat = pd.concat([planet_uz, planet_dered],axis=1)\n",
    "planet_concated = pd.concat([planet_concat, planet_residual], axis = 1)\n",
    "planet_merged = pd.concat([planet_rna, planet_concated], axis =1)\n",
    "# print(planet_concated.info())"
   ]
  },
  {
   "cell_type": "code",
   "execution_count": 192,
   "metadata": {},
   "outputs": [
    {
     "name": "stderr",
     "output_type": "stream",
     "text": [
      "C:\\Users\\LYH\\anaconda3\\lib\\site-packages\\sklearn\\model_selection\\_validation.py:531: DataConversionWarning: A column-vector y was passed when a 1d array was expected. Please change the shape of y to (n_samples,), for example using ravel().\n",
      "  estimator.fit(X_train, y_train, **fit_params)\n",
      "C:\\Users\\LYH\\anaconda3\\lib\\site-packages\\sklearn\\model_selection\\_validation.py:531: DataConversionWarning: A column-vector y was passed when a 1d array was expected. Please change the shape of y to (n_samples,), for example using ravel().\n",
      "  estimator.fit(X_train, y_train, **fit_params)\n",
      "C:\\Users\\LYH\\anaconda3\\lib\\site-packages\\sklearn\\model_selection\\_validation.py:531: DataConversionWarning: A column-vector y was passed when a 1d array was expected. Please change the shape of y to (n_samples,), for example using ravel().\n",
      "  estimator.fit(X_train, y_train, **fit_params)\n",
      "C:\\Users\\LYH\\anaconda3\\lib\\site-packages\\sklearn\\model_selection\\_validation.py:531: DataConversionWarning: A column-vector y was passed when a 1d array was expected. Please change the shape of y to (n_samples,), for example using ravel().\n",
      "  estimator.fit(X_train, y_train, **fit_params)\n",
      "C:\\Users\\LYH\\anaconda3\\lib\\site-packages\\sklearn\\model_selection\\_validation.py:531: DataConversionWarning: A column-vector y was passed when a 1d array was expected. Please change the shape of y to (n_samples,), for example using ravel().\n",
      "  estimator.fit(X_train, y_train, **fit_params)\n",
      "C:\\Users\\LYH\\anaconda3\\lib\\site-packages\\sklearn\\model_selection\\_validation.py:531: DataConversionWarning: A column-vector y was passed when a 1d array was expected. Please change the shape of y to (n_samples,), for example using ravel().\n",
      "  estimator.fit(X_train, y_train, **fit_params)\n",
      "C:\\Users\\LYH\\anaconda3\\lib\\site-packages\\sklearn\\model_selection\\_validation.py:531: DataConversionWarning: A column-vector y was passed when a 1d array was expected. Please change the shape of y to (n_samples,), for example using ravel().\n",
      "  estimator.fit(X_train, y_train, **fit_params)\n",
      "C:\\Users\\LYH\\anaconda3\\lib\\site-packages\\sklearn\\model_selection\\_validation.py:531: DataConversionWarning: A column-vector y was passed when a 1d array was expected. Please change the shape of y to (n_samples,), for example using ravel().\n",
      "  estimator.fit(X_train, y_train, **fit_params)\n",
      "C:\\Users\\LYH\\anaconda3\\lib\\site-packages\\sklearn\\model_selection\\_validation.py:531: DataConversionWarning: A column-vector y was passed when a 1d array was expected. Please change the shape of y to (n_samples,), for example using ravel().\n",
      "  estimator.fit(X_train, y_train, **fit_params)\n",
      "C:\\Users\\LYH\\anaconda3\\lib\\site-packages\\sklearn\\model_selection\\_validation.py:531: DataConversionWarning: A column-vector y was passed when a 1d array was expected. Please change the shape of y to (n_samples,), for example using ravel().\n",
      "  estimator.fit(X_train, y_train, **fit_params)\n"
     ]
    },
    {
     "name": "stdout",
     "output_type": "stream",
     "text": [
      "[0.9225  0.93125 0.91    0.905   0.9     0.9275  0.915   0.9175  0.925\n",
      " 0.91125]\n",
      "0.9165000000000001\n"
     ]
    }
   ],
   "source": [
    "rcf = RandomForestClassifier(random_state = 2) \n",
    "scores_merged = cross_val_score(rcf ,planet_merged , planet_target, scoring = 'accuracy' , cv=10)\n",
    "print(scores_merged)\n",
    "print(np.mean(scores_merged)) #accuracy = 0.9165000000000001"
   ]
  },
  {
   "cell_type": "code",
   "execution_count": 196,
   "metadata": {},
   "outputs": [],
   "source": [
    "planet_merged_scaled = StandardScaler().fit_transform(planet_merged) #표준화 스케일링 "
   ]
  },
  {
   "cell_type": "code",
   "execution_count": 215,
   "metadata": {},
   "outputs": [],
   "source": [
    "pca = PCA(n_components = 10) #주성분 5개 \n",
    "\n",
    "merged_pca = pca.fit_transform(planet_merged_scaled)\n",
    "# print(type(merged_pca))"
   ]
  },
  {
   "cell_type": "code",
   "execution_count": 216,
   "metadata": {},
   "outputs": [
    {
     "name": "stdout",
     "output_type": "stream",
     "text": [
      "[0.52210257 0.16090515 0.10211889 0.06312115 0.04324945 0.03048531\n",
      " 0.01771421 0.01685181 0.01491189 0.01075118]\n",
      "[34.98524566 10.7819931   6.84282112  4.22964586  2.8980752   2.0427713\n",
      "  1.18700077  1.12921249  0.99922131  0.72041892]\n"
     ]
    },
    {
     "data": {
      "text/plain": [
       "0.9822116220560678"
      ]
     },
     "execution_count": 216,
     "metadata": {},
     "output_type": "execute_result"
    }
   ],
   "source": [
    "eigenvalue = pca.explained_variance_\n",
    "explain = pca.explained_variance_ratio_\n",
    "print(explain)\n",
    "print(eigenvalue)\n",
    "\n",
    "sum(explain) #98.2% 의 설명력 "
   ]
  },
  {
   "cell_type": "code",
   "execution_count": 217,
   "metadata": {},
   "outputs": [],
   "source": [
    "pca_columns = ['PC1', 'PC2', 'PC3' , 'PC4' , 'PC5', 'PC6', 'PC7' , \n",
    "              'PC8' , 'PC9', 'PC10'] #pca 주성분 변수 이름 객체 설정 \n",
    "planet_merged_df = pd.DataFrame(merged_pca, columns = pca_columns)  #nd.array 형태의 pca -> pd.dataframe 형태로 변환 "
   ]
  },
  {
   "cell_type": "code",
   "execution_count": 219,
   "metadata": {},
   "outputs": [
    {
     "name": "stderr",
     "output_type": "stream",
     "text": [
      "C:\\Users\\LYH\\anaconda3\\lib\\site-packages\\sklearn\\model_selection\\_validation.py:531: DataConversionWarning: A column-vector y was passed when a 1d array was expected. Please change the shape of y to (n_samples,), for example using ravel().\n",
      "  estimator.fit(X_train, y_train, **fit_params)\n",
      "C:\\Users\\LYH\\anaconda3\\lib\\site-packages\\sklearn\\model_selection\\_validation.py:531: DataConversionWarning: A column-vector y was passed when a 1d array was expected. Please change the shape of y to (n_samples,), for example using ravel().\n",
      "  estimator.fit(X_train, y_train, **fit_params)\n",
      "C:\\Users\\LYH\\anaconda3\\lib\\site-packages\\sklearn\\model_selection\\_validation.py:531: DataConversionWarning: A column-vector y was passed when a 1d array was expected. Please change the shape of y to (n_samples,), for example using ravel().\n",
      "  estimator.fit(X_train, y_train, **fit_params)\n",
      "C:\\Users\\LYH\\anaconda3\\lib\\site-packages\\sklearn\\model_selection\\_validation.py:531: DataConversionWarning: A column-vector y was passed when a 1d array was expected. Please change the shape of y to (n_samples,), for example using ravel().\n",
      "  estimator.fit(X_train, y_train, **fit_params)\n",
      "C:\\Users\\LYH\\anaconda3\\lib\\site-packages\\sklearn\\model_selection\\_validation.py:531: DataConversionWarning: A column-vector y was passed when a 1d array was expected. Please change the shape of y to (n_samples,), for example using ravel().\n",
      "  estimator.fit(X_train, y_train, **fit_params)\n",
      "C:\\Users\\LYH\\anaconda3\\lib\\site-packages\\sklearn\\model_selection\\_validation.py:531: DataConversionWarning: A column-vector y was passed when a 1d array was expected. Please change the shape of y to (n_samples,), for example using ravel().\n",
      "  estimator.fit(X_train, y_train, **fit_params)\n",
      "C:\\Users\\LYH\\anaconda3\\lib\\site-packages\\sklearn\\model_selection\\_validation.py:531: DataConversionWarning: A column-vector y was passed when a 1d array was expected. Please change the shape of y to (n_samples,), for example using ravel().\n",
      "  estimator.fit(X_train, y_train, **fit_params)\n",
      "C:\\Users\\LYH\\anaconda3\\lib\\site-packages\\sklearn\\model_selection\\_validation.py:531: DataConversionWarning: A column-vector y was passed when a 1d array was expected. Please change the shape of y to (n_samples,), for example using ravel().\n",
      "  estimator.fit(X_train, y_train, **fit_params)\n",
      "C:\\Users\\LYH\\anaconda3\\lib\\site-packages\\sklearn\\model_selection\\_validation.py:531: DataConversionWarning: A column-vector y was passed when a 1d array was expected. Please change the shape of y to (n_samples,), for example using ravel().\n",
      "  estimator.fit(X_train, y_train, **fit_params)\n",
      "C:\\Users\\LYH\\anaconda3\\lib\\site-packages\\sklearn\\model_selection\\_validation.py:531: DataConversionWarning: A column-vector y was passed when a 1d array was expected. Please change the shape of y to (n_samples,), for example using ravel().\n",
      "  estimator.fit(X_train, y_train, **fit_params)\n"
     ]
    },
    {
     "name": "stdout",
     "output_type": "stream",
     "text": [
      "[0.89875 0.9025  0.9075  0.885   0.875   0.895   0.88625 0.88875 0.90875\n",
      " 0.8925 ]\n",
      "0.8939999999999999\n"
     ]
    }
   ],
   "source": [
    "rcf = RandomForestClassifier(random_state = 3)\n",
    "scores_pca = cross_val_score(rcf , planet_merged_df, planet_target , scoring='accuracy' , cv = 10)\n",
    "print(scores_pca)\n",
    "print(np.mean(scores_pca)) #0.8939999999999999"
   ]
  },
  {
   "cell_type": "markdown",
   "metadata": {},
   "source": [
    "## LDA 적용하기 "
   ]
  },
  {
   "cell_type": "code",
   "execution_count": 226,
   "metadata": {},
   "outputs": [],
   "source": [
    "from sklearn.discriminant_analysis import LinearDiscriminantAnalysis #LDA \n",
    "from sklearn.preprocessing import StandardScaler #스케일링 \n",
    "\n",
    "merged_scaled = StandardScaler().fit_transform(planet_merged)"
   ]
  },
  {
   "cell_type": "code",
   "execution_count": 230,
   "metadata": {},
   "outputs": [
    {
     "name": "stdout",
     "output_type": "stream",
     "text": [
      "[[ 1.11403133  0.14919715]\n",
      " [-0.05514831  1.77049236]\n",
      " [ 2.70305424 -1.28331361]\n",
      " ...\n",
      " [ 0.57154856 -1.12249017]\n",
      " [-1.17535616 -0.08668048]\n",
      " [ 0.41077821 -1.66022173]]\n"
     ]
    },
    {
     "name": "stderr",
     "output_type": "stream",
     "text": [
      "C:\\Users\\LYH\\anaconda3\\lib\\site-packages\\sklearn\\utils\\validation.py:73: DataConversionWarning: A column-vector y was passed when a 1d array was expected. Please change the shape of y to (n_samples, ), for example using ravel().\n",
      "  return f(**kwargs)\n"
     ]
    }
   ],
   "source": [
    "lda = LinearDiscriminantAnalysis(n_components = 2) #범주 개수 보다 최소 한 개 작아야함 \n",
    "lda.fit(merged_scaled, planet_target)\n",
    "planet_lda = lda.transform(merged_scaled)\n",
    "print(planet_lda)"
   ]
  },
  {
   "cell_type": "code",
   "execution_count": 232,
   "metadata": {},
   "outputs": [],
   "source": [
    "lda_columns = ['LC1','LC2']\n",
    "planetDF_lda = pd.DataFrame(planet_lda, columns = lda_columns)"
   ]
  },
  {
   "cell_type": "code",
   "execution_count": 234,
   "metadata": {},
   "outputs": [
    {
     "name": "stderr",
     "output_type": "stream",
     "text": [
      "C:\\Users\\LYH\\anaconda3\\lib\\site-packages\\sklearn\\model_selection\\_validation.py:531: DataConversionWarning: A column-vector y was passed when a 1d array was expected. Please change the shape of y to (n_samples,), for example using ravel().\n",
      "  estimator.fit(X_train, y_train, **fit_params)\n",
      "C:\\Users\\LYH\\anaconda3\\lib\\site-packages\\sklearn\\model_selection\\_validation.py:531: DataConversionWarning: A column-vector y was passed when a 1d array was expected. Please change the shape of y to (n_samples,), for example using ravel().\n",
      "  estimator.fit(X_train, y_train, **fit_params)\n",
      "C:\\Users\\LYH\\anaconda3\\lib\\site-packages\\sklearn\\model_selection\\_validation.py:531: DataConversionWarning: A column-vector y was passed when a 1d array was expected. Please change the shape of y to (n_samples,), for example using ravel().\n",
      "  estimator.fit(X_train, y_train, **fit_params)\n",
      "C:\\Users\\LYH\\anaconda3\\lib\\site-packages\\sklearn\\model_selection\\_validation.py:531: DataConversionWarning: A column-vector y was passed when a 1d array was expected. Please change the shape of y to (n_samples,), for example using ravel().\n",
      "  estimator.fit(X_train, y_train, **fit_params)\n",
      "C:\\Users\\LYH\\anaconda3\\lib\\site-packages\\sklearn\\model_selection\\_validation.py:531: DataConversionWarning: A column-vector y was passed when a 1d array was expected. Please change the shape of y to (n_samples,), for example using ravel().\n",
      "  estimator.fit(X_train, y_train, **fit_params)\n",
      "C:\\Users\\LYH\\anaconda3\\lib\\site-packages\\sklearn\\model_selection\\_validation.py:531: DataConversionWarning: A column-vector y was passed when a 1d array was expected. Please change the shape of y to (n_samples,), for example using ravel().\n",
      "  estimator.fit(X_train, y_train, **fit_params)\n",
      "C:\\Users\\LYH\\anaconda3\\lib\\site-packages\\sklearn\\model_selection\\_validation.py:531: DataConversionWarning: A column-vector y was passed when a 1d array was expected. Please change the shape of y to (n_samples,), for example using ravel().\n",
      "  estimator.fit(X_train, y_train, **fit_params)\n",
      "C:\\Users\\LYH\\anaconda3\\lib\\site-packages\\sklearn\\model_selection\\_validation.py:531: DataConversionWarning: A column-vector y was passed when a 1d array was expected. Please change the shape of y to (n_samples,), for example using ravel().\n",
      "  estimator.fit(X_train, y_train, **fit_params)\n",
      "C:\\Users\\LYH\\anaconda3\\lib\\site-packages\\sklearn\\model_selection\\_validation.py:531: DataConversionWarning: A column-vector y was passed when a 1d array was expected. Please change the shape of y to (n_samples,), for example using ravel().\n",
      "  estimator.fit(X_train, y_train, **fit_params)\n",
      "C:\\Users\\LYH\\anaconda3\\lib\\site-packages\\sklearn\\model_selection\\_validation.py:531: DataConversionWarning: A column-vector y was passed when a 1d array was expected. Please change the shape of y to (n_samples,), for example using ravel().\n",
      "  estimator.fit(X_train, y_train, **fit_params)\n"
     ]
    },
    {
     "name": "stdout",
     "output_type": "stream",
     "text": [
      "[0.81    0.79625 0.80375 0.775   0.8025  0.82375 0.79875 0.81125 0.82125\n",
      " 0.785  ]\n",
      "0.80275\n"
     ]
    }
   ],
   "source": [
    "rcf = RandomForestClassifier(random_state = 222)\n",
    "scores_lda = cross_val_score(rcf , planetDF_lda, planet_target , scoring='accuracy' , cv = 10)\n",
    "print(scores_lda)\n",
    "print(np.mean(scores_lda)) #0.80275 "
   ]
  },
  {
   "cell_type": "markdown",
   "metadata": {},
   "source": [
    "# 학습 결론 \n",
    "- PCA , LDA 비교 결과 변수가 많을 경우 PCA가 더 성능이 높았다. 나름의 이유를 찾아보자면 LDA의 고유벡터는 범주형 반응변수의 범주 -1 개 만큼 만들 수 있으므로 랜덤포래스트 모델을 돌렸을 때는 가지 수가 적어 성능이 좋지 않게 나왔다고 볼 수 있을 것 같습니다. LDA 는 분산 대비 평균차이를 극대화 하는 Boundary 를 찾는 것이 목적이므로 비교적 iris_data 와 같이 분류전 데이터의 분포가 잘 나뉘어진 데이터에는 성능이 좋을 것으로 예상되며 PCA 는 70개 가 넘는 변수들을 10개의 주성분 변수로 축소하여도 전체 데이터의 98%이상을 설명할 수 있었고 모델을 돌려보아도 정확도 면에서 2% 가량 떨어지는 것을 알 수 있었지만 그에 비해 많은 차원을 축소 했다는 것을 미루어 보아 (천체분류데이터) 에서는 PCA 가 차원축소에 더 좋은 모델이라고 할 수 있을 것 같습니다."
   ]
  },
  {
   "cell_type": "markdown",
   "metadata": {},
   "source": [
    "# 학습을 하면서 부족했던 점\n",
    "- 학습데이터와 테스트데이터를 나누어 성능 평가를 하지 않은 점 \n",
    "- 책에서 많이 못 벗어나는 분석을 했다는 점 \n"
   ]
  },
  {
   "cell_type": "code",
   "execution_count": null,
   "metadata": {},
   "outputs": [],
   "source": []
  }
 ],
 "metadata": {
  "kernelspec": {
   "display_name": "Python 3",
   "language": "python",
   "name": "python3"
  },
  "language_info": {
   "codemirror_mode": {
    "name": "ipython",
    "version": 3
   },
   "file_extension": ".py",
   "mimetype": "text/x-python",
   "name": "python",
   "nbconvert_exporter": "python",
   "pygments_lexer": "ipython3",
   "version": "3.8.3"
  }
 },
 "nbformat": 4,
 "nbformat_minor": 4
}
